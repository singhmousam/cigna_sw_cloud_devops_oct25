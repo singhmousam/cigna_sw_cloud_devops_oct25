{
 "cells": [
  {
   "cell_type": "markdown",
   "id": "0a2be7ad-7796-465c-be93-0a104cca6f67",
   "metadata": {},
   "source": [
    "#### File Handling in Python"
   ]
  },
  {
   "cell_type": "code",
   "execution_count": 1,
   "id": "ddb5a1cd-5071-41fa-aed0-4114e4b23962",
   "metadata": {},
   "outputs": [],
   "source": [
    "file  = open('test_created.txt', 'w')"
   ]
  },
  {
   "cell_type": "code",
   "execution_count": 2,
   "id": "2c5678de-7093-4911-94ed-c9d4814df000",
   "metadata": {},
   "outputs": [
    {
     "data": {
      "text/plain": [
       "27"
      ]
     },
     "execution_count": 2,
     "metadata": {},
     "output_type": "execute_result"
    }
   ],
   "source": [
    "file.write(\"Custom file ops from python\")"
   ]
  },
  {
   "cell_type": "code",
   "execution_count": 3,
   "id": "6a9f25b5-f722-4e46-bd50-7d1b5c6d91f7",
   "metadata": {},
   "outputs": [],
   "source": [
    "file.close()"
   ]
  },
  {
   "cell_type": "code",
   "execution_count": 5,
   "id": "8b28632d-44c6-4367-ab48-007cfcbbeef2",
   "metadata": {},
   "outputs": [],
   "source": [
    "with open('new_file.txt', 'w') as fo:\n",
    "    fo.write(\"Hi from python tool\")"
   ]
  },
  {
   "cell_type": "code",
   "execution_count": 6,
   "id": "eb666d19-15e4-49b5-b807-6d963ef64b31",
   "metadata": {},
   "outputs": [],
   "source": [
    "with open('new_file.txt', 'a') as fo:\n",
    "    fo.write('Appended content')"
   ]
  },
  {
   "cell_type": "code",
   "execution_count": 30,
   "id": "ea234cf3-eb27-4906-a868-f6b374bb21fa",
   "metadata": {},
   "outputs": [],
   "source": [
    "file  = open('Week2-MiniExcercise.ipynb', 'r')"
   ]
  },
  {
   "cell_type": "code",
   "execution_count": 31,
   "id": "36964a8f-99b7-43d4-9f85-307ea7158ac2",
   "metadata": {},
   "outputs": [],
   "source": [
    "file_content = file.read()"
   ]
  },
  {
   "cell_type": "code",
   "execution_count": 32,
   "id": "62c67376-7975-4e74-aa6e-efb2daeb3f96",
   "metadata": {},
   "outputs": [
    {
     "data": {
      "text/plain": [
       "4696"
      ]
     },
     "execution_count": 32,
     "metadata": {},
     "output_type": "execute_result"
    }
   ],
   "source": [
    "len(file_content)"
   ]
  },
  {
   "cell_type": "code",
   "execution_count": 34,
   "id": "0f3138e2-412a-47a3-a96b-1e352e23498e",
   "metadata": {},
   "outputs": [
    {
     "data": {
      "text/plain": [
       "'{\\n \"cells\": [\\n  {\\n   \"cell_type\": \"markdown\",\\n   \"id\": \"a6f3d6d3-8e10-423d-be5c-0fe240c1f120\",\\n   \"metadata\": {},\\n   \"source\": [\\n    \"### Week 2: Python Excercise\"\\n   ]\\n  },\\n  {\\n   \"cell_type\": \"raw\",\\n   \"id\": \"4190dcb2-c97d-435f-868f-ebc26c0bd630\",\\n   \"metadata\": {},\\n   \"source\": [\\n    \"Create a Exception Handling class for a Finance Domain application.\\\\n\",\\n    \"Write helper/formatter functions to change the default messaging to raise transactional error as ComplianceExecption.\\\\n\",\\n    \"Include transaction_id, timestamp and compliance_type as parameetrs to your custom error message.\\\\n\",\\n    \"- Format_messsage (Violation type {xyz} detected at {ts} for txn id {tid}\\\\n\",\\n    \"- Log Violation\\\\n\"\\n   ]\\n  },\\n  {\\n   \"cell_type\": \"code\",\\n   \"execution_count\": 4,\\n   \"id\": \"ad70940b-eff2-4384-93b7-8e570d9f731d\",\\n   \"metadata\": {},\\n   \"outputs\": [],\\n   \"source\": [\\n    \"from datetime import datetime\"\\n   ]\\n  },\\n  {\\n   \"cell_type\": \"code\",\\n   \"execution_count\": 19,\\n   \"id\": \"d65e1719-ccac-405f-ae86-a19ca8f138d4\",\\n   \"metadata\": {},\\n   \"outputs\": [\\n    {\\n     \"data\": {\\n      \"text/plain\": [\\n       \"datetime.datetime(2025, 10, 28, 10, 17, 33, 11464)\"\\n      ]\\n     },\\n     \"execution_count\": 19,\\n     \"metadata\": {},\\n     \"output_type\": \"execute_result\"\\n    }\\n   ],\\n   \"source\": [\\n    \"datetime.now() #.strftime(\\\\\"%Y-%B-%d %H:%M:%S\\\\\")\"\\n   ]\\n  },\\n  {\\n   \"cell_type\": \"code\",\\n   \"execution_count\": 29,\\n   \"id\": \"7826fbb3-74bb-4959-bf5b-3c7ef6c692b5\",\\n   \"metadata\": {},\\n   \"outputs\": [],\\n   \"source\": [\\n    \"class ComplianceException(Exception):\\\\n\",\\n    \"    def __init__(self, bank_id = \\'HDFC\\'):\\\\n\",\\n    \"        self.bank_id = bank_id\\\\n\",\\n    \"\\\\n\",\\n    \"    def format_message(self, txn_id):\\\\n\",\\n    \"        return f\\\\\"Violation for {txn_id} with bank {self.bank_id} at {datetime.now().strftime(\\\\\"%Y-%B-%d %H:%M:%S\\\\\")}\\\\\"\"\\n   ]\\n  },\\n  {\\n   \"cell_type\": \"code\",\\n   \"execution_count\": 33,\\n   \"id\": \"8e21407c-8150-45f3-a1cf-5952c0a744e3\",\\n   \"metadata\": {},\\n   \"outputs\": [\\n    {\\n     \"name\": \"stdout\",\\n     \"output_type\": \"stream\",\\n     \"text\": [\\n      \"Unidetified error\\\\n\"\\n     ]\\n    },\\n    {\\n     \"ename\": \"TypeError\",\\n     \"evalue\": \"can only concatenate str (not \\\\\"int\\\\\") to str\",\\n     \"output_type\": \"error\",\\n     \"traceback\": [\\n      \"\\\\u001b[31m---------------------------------------------------------------------------\\\\u001b[39m\",\\n      \"\\\\u001b[31mTypeError\\\\u001b[39m                                 Traceback (most recent call last)\",\\n      \"\\\\u001b[36mCell\\\\u001b[39m\\\\u001b[36m \\\\u001b[39m\\\\u001b[32mIn[33]\\\\u001b[39m\\\\u001b[32m, line 10\\\\u001b[39m\\\\n\\\\u001b[32m      8\\\\u001b[39m \\\\u001b[38;5;28;01mexcept\\\\u001b[39;00m \\\\u001b[38;5;167;01mException\\\\u001b[39;00m \\\\u001b[38;5;28;01mas\\\\u001b[39;00m e:\\\\n\\\\u001b[32m      9\\\\u001b[39m     \\\\u001b[38;5;28mprint\\\\u001b[39m(\\\\u001b[33m\\'\\\\u001b[39m\\\\u001b[33mUnidetified error\\\\u001b[39m\\\\u001b[33m\\'\\\\u001b[39m)\\\\n\\\\u001b[32m---> \\\\u001b[39m\\\\u001b[32m10\\\\u001b[39m     \\\\u001b[38;5;28;01mraise\\\\u001b[39;00m e\\\\n\",\\n      \"\\\\u001b[36mCell\\\\u001b[39m\\\\u001b[36m \\\\u001b[39m\\\\u001b[32mIn[33]\\\\u001b[39m\\\\u001b[32m, line 2\\\\u001b[39m\\\\n\\\\u001b[32m      1\\\\u001b[39m \\\\u001b[38;5;28;01mtry\\\\u001b[39;00m:\\\\n\\\\u001b[32m----> \\\\u001b[39m\\\\u001b[32m2\\\\u001b[39m     \\\\u001b[33;43m\\'\\\\u001b[39;49m\\\\u001b[33;43ma\\\\u001b[39;49m\\\\u001b[33;43m\\'\\\\u001b[39;49m\\\\u001b[43m \\\\u001b[49m\\\\u001b[43m+\\\\u001b[49m\\\\u001b[43m \\\\u001b[49m\\\\u001b[32;43m5\\\\u001b[39;49m\\\\n\\\\u001b[32m      3\\\\u001b[39m     \\\\u001b[38;5;28;01mraise\\\\u001b[39;00m ComplianceException(\\\\u001b[33m\\'\\\\u001b[39m\\\\u001b[33mIDFC\\\\u001b[39m\\\\u001b[33m\\'\\\\u001b[39m)\\\\n\\\\u001b[32m      4\\\\u001b[39m \\\\u001b[38;5;28;01mexcept\\\\u001b[39;00m ComplianceException \\\\u001b[38;5;28;01mas\\\\u001b[39;00m e:\\\\n\",\\n      \"\\\\u001b[31mTypeError\\\\u001b[39m: can only concatenate str (not \\\\\"int\\\\\") to str\"\\n     ]\\n    }\\n   ],\\n   \"source\": [\\n    \"try:\\\\n\",\\n    \"    \\'a\\' + 5\\\\n\",\\n    \"    raise ComplianceException(\\'IDFC\\')\\\\n\",\\n    \"except ComplianceException as e:\\\\n\",\\n    \"    print(e.format_message(\\'abc13\\'))\\\\n\",\\n    \"except NameError as e:\\\\n\",\\n    \"    print(\\'Check code syntax :\\' + str(e))\\\\n\",\\n    \"except Exception as e:\\\\n\",\\n    \"    print(\\'Unidetified error\\')\\\\n\",\\n    \"    raise e\"\\n   ]\\n  },\\n  {\\n   \"cell_type\": \"code\",\\n   \"execution_count\": null,\\n   \"id\": \"77c0f778-257b-4482-a1b8-1d7724dc7e09\",\\n   \"metadata\": {},\\n   \"outputs\": [],\\n   \"source\": []\\n  }\\n ],\\n \"metadata\": {\\n  \"kernelspec\": {\\n   \"display_name\": \"Python 3 (ipykernel)\",\\n   \"language\": \"python\",\\n   \"name\": \"python3\"\\n  },\\n  \"language_info\": {\\n   \"codemirror_mode\": {\\n    \"name\": \"ipython\",\\n    \"version\": 3\\n   },\\n   \"file_extension\": \".py\",\\n   \"mimetype\": \"text/x-python\",\\n   \"name\": \"python\",\\n   \"nbconvert_exporter\": \"python\",\\n   \"pygments_lexer\": \"ipython3\",\\n   \"version\": \"3.13.9\"\\n  }\\n },\\n \"nbformat\": 4,\\n \"nbformat_minor\": 5\\n}\\n'"
      ]
     },
     "execution_count": 34,
     "metadata": {},
     "output_type": "execute_result"
    }
   ],
   "source": [
    "file_content"
   ]
  },
  {
   "cell_type": "code",
   "execution_count": 39,
   "id": "2515be27-6240-4fa0-bd97-c84e66a5098e",
   "metadata": {},
   "outputs": [
    {
     "data": {
      "text/plain": [
       "'{ \"cells\": [  {   \"cell_type\": \"markdown\",   \"id\": \"a6f3d6d3-8e10-423d-be5c-0fe240c1f120\",   \"metadata\": {},   \"source\": [    \"### Week 2: Python Excercise\"   ]  },  {   \"cell_type\": \"raw\",   \"id\": \"4190dcb2-c97d-435f-868f-ebc26c0bd630\",   \"metadata\": {},   \"source\": [    \"Create a Exception Handling class for a Finance Domain application.\\\\n\",    \"Write helper/formatter functions to change the default messaging to raise transactional error as ComplianceExecption.\\\\n\",    \"Include transaction_id, timestamp and compliance_type as parameetrs to your custom error message.\\\\n\",    \"- Format_messsage (Violation type {xyz} detected at {ts} for txn id {tid}\\\\n\",    \"- Log Violation\\\\n\"   ]  },  {   \"cell_type\": \"code\",   \"execution_count\": 4,   \"id\": \"ad70940b-eff2-4384-93b7-8e570d9f731d\",   \"metadata\": {},   \"outputs\": [],   \"source\": [    \"from datetime import datetime\"   ]  },  {   \"cell_type\": \"code\",   \"execution_count\": 19,   \"id\": \"d65e1719-ccac-405f-ae86-a19ca8f138d4\",   \"metadata\": {},   \"outputs\": [    {     \"data\": {      \"text/plain\": [       \"datetime.datetime(2025, 10, 28, 10, 17, 33, 11464)\"      ]     },     \"execution_count\": 19,     \"metadata\": {},     \"output_type\": \"execute_result\"    }   ],   \"source\": [    \"datetime.now() #.strftime(\\\\\"%Y-%B-%d %H:%M:%S\\\\\")\"   ]  },  {   \"cell_type\": \"code\",   \"execution_count\": 29,   \"id\": \"7826fbb3-74bb-4959-bf5b-3c7ef6c692b5\",   \"metadata\": {},   \"outputs\": [],   \"source\": [    \"class ComplianceException(Exception):\\\\n\",    \"    def __init__(self, bank_id = \\'HDFC\\'):\\\\n\",    \"        self.bank_id = bank_id\\\\n\",    \"\\\\n\",    \"    def format_message(self, txn_id):\\\\n\",    \"        return f\\\\\"Violation for {txn_id} with bank {self.bank_id} at {datetime.now().strftime(\\\\\"%Y-%B-%d %H:%M:%S\\\\\")}\\\\\"\"   ]  },  {   \"cell_type\": \"code\",   \"execution_count\": 33,   \"id\": \"8e21407c-8150-45f3-a1cf-5952c0a744e3\",   \"metadata\": {},   \"outputs\": [    {     \"name\": \"stdout\",     \"output_type\": \"stream\",     \"text\": [      \"Unidetified error\\\\n\"     ]    },    {     \"ename\": \"TypeError\",     \"evalue\": \"can only concatenate str (not \\\\\"int\\\\\") to str\",     \"output_type\": \"error\",     \"traceback\": [      \"\\\\u001b[31m---------------------------------------------------------------------------\\\\u001b[39m\",      \"\\\\u001b[31mTypeError\\\\u001b[39m                                 Traceback (most recent call last)\",      \"\\\\u001b[36mCell\\\\u001b[39m\\\\u001b[36m \\\\u001b[39m\\\\u001b[32mIn[33]\\\\u001b[39m\\\\u001b[32m, line 10\\\\u001b[39m\\\\n\\\\u001b[32m      8\\\\u001b[39m \\\\u001b[38;5;28;01mexcept\\\\u001b[39;00m \\\\u001b[38;5;167;01mException\\\\u001b[39;00m \\\\u001b[38;5;28;01mas\\\\u001b[39;00m e:\\\\n\\\\u001b[32m      9\\\\u001b[39m     \\\\u001b[38;5;28mprint\\\\u001b[39m(\\\\u001b[33m\\'\\\\u001b[39m\\\\u001b[33mUnidetified error\\\\u001b[39m\\\\u001b[33m\\'\\\\u001b[39m)\\\\n\\\\u001b[32m---> \\\\u001b[39m\\\\u001b[32m10\\\\u001b[39m     \\\\u001b[38;5;28;01mraise\\\\u001b[39;00m e\\\\n\",      \"\\\\u001b[36mCell\\\\u001b[39m\\\\u001b[36m \\\\u001b[39m\\\\u001b[32mIn[33]\\\\u001b[39m\\\\u001b[32m, line 2\\\\u001b[39m\\\\n\\\\u001b[32m      1\\\\u001b[39m \\\\u001b[38;5;28;01mtry\\\\u001b[39;00m:\\\\n\\\\u001b[32m----> \\\\u001b[39m\\\\u001b[32m2\\\\u001b[39m     \\\\u001b[33;43m\\'\\\\u001b[39;49m\\\\u001b[33;43ma\\\\u001b[39;49m\\\\u001b[33;43m\\'\\\\u001b[39;49m\\\\u001b[43m \\\\u001b[49m\\\\u001b[43m+\\\\u001b[49m\\\\u001b[43m \\\\u001b[49m\\\\u001b[32;43m5\\\\u001b[39;49m\\\\n\\\\u001b[32m      3\\\\u001b[39m     \\\\u001b[38;5;28;01mraise\\\\u001b[39;00m ComplianceException(\\\\u001b[33m\\'\\\\u001b[39m\\\\u001b[33mIDFC\\\\u001b[39m\\\\u001b[33m\\'\\\\u001b[39m)\\\\n\\\\u001b[32m      4\\\\u001b[39m \\\\u001b[38;5;28;01mexcept\\\\u001b[39;00m ComplianceException \\\\u001b[38;5;28;01mas\\\\u001b[39;00m e:\\\\n\",      \"\\\\u001b[31mTypeError\\\\u001b[39m: can only concatenate str (not \\\\\"int\\\\\") to str\"     ]    }   ],   \"source\": [    \"try:\\\\n\",    \"    \\'a\\' + 5\\\\n\",    \"    raise ComplianceException(\\'IDFC\\')\\\\n\",    \"except ComplianceException as e:\\\\n\",    \"    print(e.format_message(\\'abc13\\'))\\\\n\",    \"except NameError as e:\\\\n\",    \"    print(\\'Check code syntax :\\' + str(e))\\\\n\",    \"except Exception as e:\\\\n\",    \"    print(\\'Unidetified error\\')\\\\n\",    \"    raise e\"   ]  },  {   \"cell_type\": \"code\",   \"execution_count\": null,   \"id\": \"77c0f778-257b-4482-a1b8-1d7724dc7e09\",   \"metadata\": {},   \"outputs\": [],   \"source\": []  } ], \"metadata\": {  \"kernelspec\": {   \"display_name\": \"Python 3 (ipykernel)\",   \"language\": \"python\",   \"name\": \"python3\"  },  \"language_info\": {   \"codemirror_mode\": {    \"name\": \"ipython\",    \"version\": 3   },   \"file_extension\": \".py\",   \"mimetype\": \"text/x-python\",   \"name\": \"python\",   \"nbconvert_exporter\": \"python\",   \"pygments_lexer\": \"ipython3\",   \"version\": \"3.13.9\"  } }, \"nbformat\": 4, \"nbformat_minor\": 5}'"
      ]
     },
     "execution_count": 39,
     "metadata": {},
     "output_type": "execute_result"
    }
   ],
   "source": [
    "filtered_notebook = file_content.replace('\\n', '')\n",
    "filtered_notebook"
   ]
  },
  {
   "cell_type": "code",
   "execution_count": 41,
   "id": "2026eb7b-ac1f-4fc2-920b-c78ac4155d44",
   "metadata": {},
   "outputs": [
    {
     "ename": "SyntaxError",
     "evalue": "unterminated string literal (detected at line 1) (1443729105.py, line 1)",
     "output_type": "error",
     "traceback": [
      "  \u001b[36mCell\u001b[39m\u001b[36m \u001b[39m\u001b[32mIn[41]\u001b[39m\u001b[32m, line 1\u001b[39m\n\u001b[31m    \u001b[39m\u001b[31mtext_content = '{ \"cells\": [  {   \"cell_type\": \"markdown\",   \"id\": \"a6f3d6d3-8e10-423d-be5c-0fe240c1f120\",   \"metadata\": {},   \"source\": [    \"### Week 2: Python Excercise\"   ]  },  {   \"cell_type\": \"raw\",   \"id\": \"4190dcb2-c97d-435f-868f-ebc26c0bd630\",   \"metadata\": {},   \"source\": [    \"Create a Exception Handling class for a Finance Domain application.\\\\n\",    \"Write helper/formatter functions to change the default messaging to raise transactional error as ComplianceExecption.\\\\n\",    \"Include transaction_id, timestamp and compliance_type as parameetrs to your custom error message.\\\\n\",    \"- Format_messsage (Violation type {xyz} detected at {ts} for txn id {tid}\\\\n\",    \"- Log Violation\\\\n\"   ]  }]\u001b[39m\n                   ^\n\u001b[31mSyntaxError\u001b[39m\u001b[31m:\u001b[39m unterminated string literal (detected at line 1)\n"
     ]
    }
   ],
   "source": []
  },
  {
   "cell_type": "code",
   "execution_count": 27,
   "id": "98397d0d-291b-44a0-934f-13f6e6ebf56c",
   "metadata": {},
   "outputs": [],
   "source": [
    "with open('new_jupyterfile.ipynb', 'w') as fo:\n",
    "    fo.write(file_content)"
   ]
  },
  {
   "cell_type": "code",
   "execution_count": null,
   "id": "874c5aa9-546a-4fb9-b1f4-2e72b7b2f413",
   "metadata": {},
   "outputs": [],
   "source": []
  },
  {
   "cell_type": "code",
   "execution_count": 21,
   "id": "bbbcc173-19da-473b-800f-88a6150b8fad",
   "metadata": {},
   "outputs": [],
   "source": [
    "file  = open('test_created.txt', 'r')"
   ]
  },
  {
   "cell_type": "code",
   "execution_count": 22,
   "id": "d37aac34-1aa9-4041-bbc3-9f0b5e228ca2",
   "metadata": {},
   "outputs": [
    {
     "data": {
      "text/plain": [
       "16"
      ]
     },
     "execution_count": 22,
     "metadata": {},
     "output_type": "execute_result"
    }
   ],
   "source": [
    "len(file.readlines())"
   ]
  },
  {
   "cell_type": "code",
   "execution_count": 11,
   "id": "1e0c32f9-b2e8-490d-bf38-f7900c9cd7a2",
   "metadata": {},
   "outputs": [
    {
     "data": {
      "text/plain": [
       "['Custom file ops from python\\n',\n",
       " ' Map\\n',\n",
       " '- Given a list of temperatures in Celsius, use map to convert them to Fahrenheit.\\n',\n",
       " '- Use map to capitalize the first letter of each word in a list of strings.\\n',\n",
       " '- Transform a list of numbers into their string representations using map.\\n',\n",
       " ' Filter\\n',\n",
       " '- Use filter to extract all prime numbers from a list of integers.\\n',\n",
       " '- Given a list of user objects, filter out those who are under 18.\\n',\n",
       " '- Filter out all strings that contain the letter \"z\" from a list of words.\\n',\n",
       " ' Reduce- Use reduce to calculate the product of all numbers in a list.\\n',\n",
       " '- Given a list of transactions (positive and negative numbers), use reduce to compute the net balance.\\n',\n",
       " '- Use reduce to find the longest word in a list of strings.\\n',\n",
       " ' Nested Challenge- Combine map, filter, and reduce to:\\n',\n",
       " '- Filter out negative numbers from a list,\\n',\n",
       " '- Square the remaining numbers,\\n',\n",
       " '- Sum the squares.']"
      ]
     },
     "execution_count": 11,
     "metadata": {},
     "output_type": "execute_result"
    }
   ],
   "source": [
    "file.readlines()"
   ]
  },
  {
   "cell_type": "code",
   "execution_count": 17,
   "id": "59a6e8e8-d95f-4770-b09c-107346a6a008",
   "metadata": {},
   "outputs": [
    {
     "data": {
      "text/plain": [
       "1"
      ]
     },
     "execution_count": 17,
     "metadata": {},
     "output_type": "execute_result"
    }
   ],
   "source": [
    "len(file.readlines(1))"
   ]
  },
  {
   "cell_type": "code",
   "execution_count": 60,
   "id": "9a247ba9-107a-4a6f-a163-405a78dc6e50",
   "metadata": {},
   "outputs": [],
   "source": [
    "with open('content.json', 'r') as fo:\n",
    "    read_content = fo.read()"
   ]
  },
  {
   "cell_type": "code",
   "execution_count": 61,
   "id": "59335f87-f4b2-47d3-9f23-f4596107befb",
   "metadata": {},
   "outputs": [
    {
     "data": {
      "text/plain": [
       "'{\"cell_type\": \"markdown\",   \"id\": \"a6f3d6d3-8e10-423d-be5c-0fe240c1f120\",   \"metadata\": \"some metadata\",   \"source\": [    \"### Week 2: Python Excercise\"]}'"
      ]
     },
     "execution_count": 61,
     "metadata": {},
     "output_type": "execute_result"
    }
   ],
   "source": [
    "read_content"
   ]
  },
  {
   "cell_type": "code",
   "execution_count": 62,
   "id": "e88f52a7-ecac-4fc8-b403-326e23d5d37c",
   "metadata": {},
   "outputs": [
    {
     "data": {
      "text/plain": [
       "{'cell_type': 'markdown',\n",
       " 'id': 'a6f3d6d3-8e10-423d-be5c-0fe240c1f120',\n",
       " 'metadata': 'some metadata',\n",
       " 'source': ['### Week 2: Python Excercise']}"
      ]
     },
     "execution_count": 62,
     "metadata": {},
     "output_type": "execute_result"
    }
   ],
   "source": [
    "eval(read_content)"
   ]
  },
  {
   "cell_type": "code",
   "execution_count": 63,
   "id": "23a7e24f-e56b-4cdf-9117-61a1a3d956f8",
   "metadata": {},
   "outputs": [],
   "source": [
    "new_json = eval(read_content)"
   ]
  },
  {
   "cell_type": "code",
   "execution_count": 64,
   "id": "edb57999-4a78-483e-bc81-d15454b3d9e5",
   "metadata": {},
   "outputs": [],
   "source": [
    "import pandas as pd"
   ]
  },
  {
   "cell_type": "code",
   "execution_count": 65,
   "id": "4ae9994e-4239-4bea-9bed-468f959b5d8f",
   "metadata": {},
   "outputs": [
    {
     "data": {
      "text/html": [
       "<div>\n",
       "<style scoped>\n",
       "    .dataframe tbody tr th:only-of-type {\n",
       "        vertical-align: middle;\n",
       "    }\n",
       "\n",
       "    .dataframe tbody tr th {\n",
       "        vertical-align: top;\n",
       "    }\n",
       "\n",
       "    .dataframe thead th {\n",
       "        text-align: right;\n",
       "    }\n",
       "</style>\n",
       "<table border=\"1\" class=\"dataframe\">\n",
       "  <thead>\n",
       "    <tr style=\"text-align: right;\">\n",
       "      <th></th>\n",
       "      <th>cell_type</th>\n",
       "      <th>id</th>\n",
       "      <th>metadata</th>\n",
       "      <th>source</th>\n",
       "    </tr>\n",
       "  </thead>\n",
       "  <tbody>\n",
       "    <tr>\n",
       "      <th>0</th>\n",
       "      <td>markdown</td>\n",
       "      <td>a6f3d6d3-8e10-423d-be5c-0fe240c1f120</td>\n",
       "      <td>some metadata</td>\n",
       "      <td>### Week 2: Python Excercise</td>\n",
       "    </tr>\n",
       "  </tbody>\n",
       "</table>\n",
       "</div>"
      ],
      "text/plain": [
       "  cell_type                                    id       metadata  \\\n",
       "0  markdown  a6f3d6d3-8e10-423d-be5c-0fe240c1f120  some metadata   \n",
       "\n",
       "                         source  \n",
       "0  ### Week 2: Python Excercise  "
      ]
     },
     "execution_count": 65,
     "metadata": {},
     "output_type": "execute_result"
    }
   ],
   "source": [
    "pd.DataFrame(new_json)"
   ]
  },
  {
   "cell_type": "code",
   "execution_count": 56,
   "id": "c6b60527-0c26-496e-89de-e6c579a9706c",
   "metadata": {},
   "outputs": [],
   "source": [
    "# !pip install pandas"
   ]
  },
  {
   "cell_type": "code",
   "execution_count": 66,
   "id": "1c06fa88-6a59-4b08-96a7-738f500e519a",
   "metadata": {},
   "outputs": [
    {
     "data": {
      "text/html": [
       "<div>\n",
       "<style scoped>\n",
       "    .dataframe tbody tr th:only-of-type {\n",
       "        vertical-align: middle;\n",
       "    }\n",
       "\n",
       "    .dataframe tbody tr th {\n",
       "        vertical-align: top;\n",
       "    }\n",
       "\n",
       "    .dataframe thead th {\n",
       "        text-align: right;\n",
       "    }\n",
       "</style>\n",
       "<table border=\"1\" class=\"dataframe\">\n",
       "  <thead>\n",
       "    <tr style=\"text-align: right;\">\n",
       "      <th></th>\n",
       "      <th>cell_type</th>\n",
       "      <th>id</th>\n",
       "      <th>metadata</th>\n",
       "      <th>source</th>\n",
       "    </tr>\n",
       "  </thead>\n",
       "  <tbody>\n",
       "    <tr>\n",
       "      <th>0</th>\n",
       "      <td>markdown</td>\n",
       "      <td>a6f3d6d3-8e10-423d-be5c-0fe240c1f120</td>\n",
       "      <td>some metadata</td>\n",
       "      <td>### Week 2: Python Excercise</td>\n",
       "    </tr>\n",
       "  </tbody>\n",
       "</table>\n",
       "</div>"
      ],
      "text/plain": [
       "  cell_type                                    id       metadata  \\\n",
       "0  markdown  a6f3d6d3-8e10-423d-be5c-0fe240c1f120  some metadata   \n",
       "\n",
       "                         source  \n",
       "0  ### Week 2: Python Excercise  "
      ]
     },
     "execution_count": 66,
     "metadata": {},
     "output_type": "execute_result"
    }
   ],
   "source": [
    "pd.read_json('content.json')"
   ]
  },
  {
   "cell_type": "code",
   "execution_count": null,
   "id": "4cf66916-0f27-4af3-b649-cee9990c705e",
   "metadata": {},
   "outputs": [],
   "source": []
  }
 ],
 "metadata": {
  "kernelspec": {
   "display_name": "Python 3 (ipykernel)",
   "language": "python",
   "name": "python3"
  },
  "language_info": {
   "codemirror_mode": {
    "name": "ipython",
    "version": 3
   },
   "file_extension": ".py",
   "mimetype": "text/x-python",
   "name": "python",
   "nbconvert_exporter": "python",
   "pygments_lexer": "ipython3",
   "version": "3.13.9"
  }
 },
 "nbformat": 4,
 "nbformat_minor": 5
}
