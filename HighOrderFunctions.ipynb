{
 "cells": [
  {
   "cell_type": "markdown",
   "id": "9b623617-bd11-4961-abda-b1e1e10a48c4",
   "metadata": {},
   "source": [
    "### Advanced Python Tools"
   ]
  },
  {
   "cell_type": "code",
   "execution_count": 10,
   "id": "5011d654-267f-465b-81f4-63b6c0514dcb",
   "metadata": {},
   "outputs": [],
   "source": [
    "a  = [[1,5,1564,123],\n",
    "     [654, 456,235],\n",
    "     [5450889, 5457,6]]"
   ]
  },
  {
   "cell_type": "code",
   "execution_count": 11,
   "id": "fbd9c46f-dcee-404c-a5fe-b929d3a83f49",
   "metadata": {},
   "outputs": [],
   "source": [
    "b = iter([a, a,33,134, a])"
   ]
  },
  {
   "cell_type": "code",
   "execution_count": 5,
   "id": "c4c1dac6-3b06-43b7-ad7e-ea4eb235c6b6",
   "metadata": {},
   "outputs": [],
   "source": [
    "num = [34,67,45,578,235]"
   ]
  },
  {
   "cell_type": "code",
   "execution_count": 7,
   "id": "f8b1b8e9-15fb-4d16-bf35-a9d0b6490b94",
   "metadata": {},
   "outputs": [],
   "source": [
    "a  = iter(num)"
   ]
  },
  {
   "cell_type": "code",
   "execution_count": 8,
   "id": "f5e061e7-2b26-4b94-915b-0a5670c77fba",
   "metadata": {},
   "outputs": [
    {
     "data": {
      "text/plain": [
       "34"
      ]
     },
     "execution_count": 8,
     "metadata": {},
     "output_type": "execute_result"
    }
   ],
   "source": [
    "next(a)"
   ]
  },
  {
   "cell_type": "code",
   "execution_count": 9,
   "id": "8ae9f4c2-cd13-44d6-b685-4ee9de3a1549",
   "metadata": {},
   "outputs": [
    {
     "data": {
      "text/plain": [
       "67"
      ]
     },
     "execution_count": 9,
     "metadata": {},
     "output_type": "execute_result"
    }
   ],
   "source": [
    "next(a)"
   ]
  },
  {
   "cell_type": "code",
   "execution_count": 12,
   "id": "9b75bd45-eaaa-4ba2-a88f-1203a487d901",
   "metadata": {},
   "outputs": [
    {
     "data": {
      "text/plain": [
       "[[1, 5, 1564, 123], [654, 456, 235], [5450889, 5457, 6]]"
      ]
     },
     "execution_count": 12,
     "metadata": {},
     "output_type": "execute_result"
    }
   ],
   "source": [
    "next(b)"
   ]
  },
  {
   "cell_type": "code",
   "execution_count": 13,
   "id": "25ca1bbd-3178-4bb7-bccc-59ab08b910f9",
   "metadata": {},
   "outputs": [
    {
     "data": {
      "text/plain": [
       "[[1, 5, 1564, 123], [654, 456, 235], [5450889, 5457, 6]]"
      ]
     },
     "execution_count": 13,
     "metadata": {},
     "output_type": "execute_result"
    }
   ],
   "source": [
    "next(b)"
   ]
  },
  {
   "cell_type": "code",
   "execution_count": 15,
   "id": "62543f04-d43f-4066-9539-39359cba7e79",
   "metadata": {},
   "outputs": [
    {
     "data": {
      "text/plain": [
       "33"
      ]
     },
     "execution_count": 15,
     "metadata": {},
     "output_type": "execute_result"
    }
   ],
   "source": [
    "next(b)"
   ]
  },
  {
   "cell_type": "code",
   "execution_count": 16,
   "id": "3e771c8a-11b8-4a5f-ac48-8b5486adbeb9",
   "metadata": {},
   "outputs": [],
   "source": [
    "def square(n):\n",
    "    for i in range(n):\n",
    "        yield i**2"
   ]
  },
  {
   "cell_type": "code",
   "execution_count": 17,
   "id": "c88cf2ff-f5d8-469f-8702-d6abeec2ab68",
   "metadata": {},
   "outputs": [
    {
     "data": {
      "text/plain": [
       "<generator object square at 0x000001A5301B13C0>"
      ]
     },
     "execution_count": 17,
     "metadata": {},
     "output_type": "execute_result"
    }
   ],
   "source": [
    "square(20)"
   ]
  },
  {
   "cell_type": "code",
   "execution_count": 18,
   "id": "3153382e-f766-40dc-912d-38e3f1e6261c",
   "metadata": {},
   "outputs": [
    {
     "name": "stdout",
     "output_type": "stream",
     "text": [
      "0\n",
      "1\n",
      "4\n",
      "9\n",
      "16\n",
      "25\n",
      "36\n",
      "49\n",
      "64\n",
      "81\n",
      "100\n",
      "121\n",
      "144\n",
      "169\n",
      "196\n",
      "225\n",
      "256\n",
      "289\n",
      "324\n",
      "361\n"
     ]
    }
   ],
   "source": [
    "for s in square(20):\n",
    "    print(s)"
   ]
  },
  {
   "cell_type": "code",
   "execution_count": 19,
   "id": "f08352ab-da50-4bcc-9a8a-9992e0bc984e",
   "metadata": {},
   "outputs": [],
   "source": [
    "def test_func(a, b):\n",
    "    return a + b"
   ]
  },
  {
   "cell_type": "code",
   "execution_count": 21,
   "id": "35f41cad-7e7b-4800-a409-9edf882436b1",
   "metadata": {},
   "outputs": [
    {
     "data": {
      "text/plain": [
       "8"
      ]
     },
     "execution_count": 21,
     "metadata": {},
     "output_type": "execute_result"
    }
   ],
   "source": [
    "test_func(2, 6)"
   ]
  },
  {
   "cell_type": "code",
   "execution_count": 31,
   "id": "a4fdd5a6-d5a4-4704-b52c-cfeee05f6ed0",
   "metadata": {},
   "outputs": [],
   "source": [
    "def test_k(k, *args, **kwargs):\n",
    "    pass"
   ]
  },
  {
   "cell_type": "code",
   "execution_count": 28,
   "id": "00ec66f9-d461-439a-8ce4-449183105274",
   "metadata": {},
   "outputs": [],
   "source": [
    "test_k(2)"
   ]
  },
  {
   "cell_type": "code",
   "execution_count": 33,
   "id": "a3ce5d94-2e1b-4143-8c20-308715a471a7",
   "metadata": {},
   "outputs": [
    {
     "ename": "SyntaxError",
     "evalue": "positional argument follows keyword argument (1461317647.py, line 1)",
     "output_type": "error",
     "traceback": [
      "  \u001b[36mCell\u001b[39m\u001b[36m \u001b[39m\u001b[32mIn[33]\u001b[39m\u001b[32m, line 1\u001b[39m\n\u001b[31m    \u001b[39m\u001b[31mtest_k(2, 5, 6,a= 78,37, {'a':12})\u001b[39m\n                                     ^\n\u001b[31mSyntaxError\u001b[39m\u001b[31m:\u001b[39m positional argument follows keyword argument\n"
     ]
    }
   ],
   "source": [
    "test_k(2, 5, 6,37, {'a':12})"
   ]
  },
  {
   "cell_type": "code",
   "execution_count": 38,
   "id": "47c68526-8bcd-48d1-92b5-07bd00173556",
   "metadata": {},
   "outputs": [
    {
     "name": "stdout",
     "output_type": "stream",
     "text": [
      "name: Mousam\n",
      "age: 25\n",
      "city: Bengaluru\n"
     ]
    }
   ],
   "source": [
    "def display_info(**kwargs):\n",
    "    for key, value in kwargs.items():\n",
    "        print(f\"{key}: {value}\")\n",
    "\n",
    "display_info(name=\"Mousam\", age=25, city=\"Bengaluru\")"
   ]
  },
  {
   "cell_type": "code",
   "execution_count": 39,
   "id": "77a8deca-a7ed-4292-9ec2-a08531aec83b",
   "metadata": {},
   "outputs": [
    {
     "name": "stdout",
     "output_type": "stream",
     "text": [
      "name: Virat\n",
      "age: 25\n",
      "city: Bengaluru\n",
      "profession: Sports\n",
      "comp: \n"
     ]
    }
   ],
   "source": [
    "display_info(name=\"Virat\", age=25, city=\"Bengaluru\", profession='Sports', comp='')"
   ]
  },
  {
   "cell_type": "code",
   "execution_count": 40,
   "id": "a24b74ce-ed1a-4763-a180-c3b614fe245e",
   "metadata": {},
   "outputs": [
    {
     "name": "stdout",
     "output_type": "stream",
     "text": [
      "name: Virat\n"
     ]
    }
   ],
   "source": [
    "display_info(name=\"Virat\")"
   ]
  },
  {
   "cell_type": "code",
   "execution_count": null,
   "id": "6b9b427c-f54c-4573-b6d2-bdcf32b8ca13",
   "metadata": {},
   "outputs": [],
   "source": []
  },
  {
   "cell_type": "code",
   "execution_count": 41,
   "id": "56c69101-0c75-42a2-89f2-6a8f1e3b4c3c",
   "metadata": {},
   "outputs": [
    {
     "name": "stdout",
     "output_type": "stream",
     "text": [
      "Hello, Alice!\n",
      "Hello, Bob!\n",
      "Hello, Charlie!\n",
      "Hello, MS!\n"
     ]
    }
   ],
   "source": [
    "def greet_all(*args):\n",
    "    for name in args:\n",
    "        print(f\"Hello, {name}!\")\n",
    "\n",
    "greet_all(\"Alice\", \"Bob\", \"Charlie\", \"MS\")"
   ]
  },
  {
   "cell_type": "code",
   "execution_count": null,
   "id": "fa386e53-90e3-4337-8b38-65d41906b2d9",
   "metadata": {},
   "outputs": [],
   "source": []
  },
  {
   "cell_type": "code",
   "execution_count": null,
   "id": "96f7c6e3-977c-4a10-a52f-151e70e9ca23",
   "metadata": {},
   "outputs": [],
   "source": []
  },
  {
   "cell_type": "code",
   "execution_count": null,
   "id": "3e23ed32-4d79-4cdc-85be-7c90fa2f7676",
   "metadata": {},
   "outputs": [],
   "source": []
  },
  {
   "cell_type": "markdown",
   "id": "faf05573-c1ad-4575-8cac-1db61ba96545",
   "metadata": {},
   "source": [
    "### Decorators"
   ]
  },
  {
   "cell_type": "code",
   "execution_count": 46,
   "id": "fefcbcd2-14af-41d3-8907-2cc9342e9422",
   "metadata": {},
   "outputs": [],
   "source": [
    "@time_logger\n",
    "def data_processing():\n",
    "    time.sleep(2)\n",
    "    # ops\n",
    "    return 100"
   ]
  },
  {
   "cell_type": "code",
   "execution_count": 47,
   "id": "bae063e6-1ba9-4ad0-bf04-d0cf835ee9cc",
   "metadata": {},
   "outputs": [
    {
     "name": "stdout",
     "output_type": "stream",
     "text": [
      "Starting 'data_processing'...\n",
      "Finished 'data_processing' in 2.0004 seconds\n"
     ]
    },
    {
     "data": {
      "text/plain": [
       "100"
      ]
     },
     "execution_count": 47,
     "metadata": {},
     "output_type": "execute_result"
    }
   ],
   "source": [
    "data_processing()"
   ]
  },
  {
   "cell_type": "code",
   "execution_count": 49,
   "id": "93cfcc39-a16a-4f41-b384-7c250fb9fe99",
   "metadata": {},
   "outputs": [],
   "source": [
    "@time_logger\n",
    "def clean_data():\n",
    "    time.sleep(5)\n",
    "    # ops\n",
    "    return 100"
   ]
  },
  {
   "cell_type": "code",
   "execution_count": 50,
   "id": "08b078d8-419d-4123-93b2-020c9b6b887d",
   "metadata": {},
   "outputs": [
    {
     "name": "stdout",
     "output_type": "stream",
     "text": [
      "Starting 'clean_data'...\n",
      "Finished 'clean_data' in 5.0008 seconds\n"
     ]
    },
    {
     "data": {
      "text/plain": [
       "100"
      ]
     },
     "execution_count": 50,
     "metadata": {},
     "output_type": "execute_result"
    }
   ],
   "source": [
    "clean_data()"
   ]
  },
  {
   "cell_type": "code",
   "execution_count": 42,
   "id": "3526d9bf-7043-4379-9c8d-31f097fc0234",
   "metadata": {},
   "outputs": [],
   "source": [
    "\n",
    "import time\n",
    "\n",
    "def time_logger(func):\n",
    "    def wrapper(*args, **kwargs):\n",
    "        start_time = time.time()\n",
    "        print(f\"Starting '{func.__name__}'...\")\n",
    "        result = func(*args, **kwargs)\n",
    "        end_time = time.time()\n",
    "        print(f\"Finished '{func.__name__}' in {end_time - start_time:.4f} seconds\")\n",
    "        return result\n",
    "    return wrapper"
   ]
  },
  {
   "cell_type": "code",
   "execution_count": 51,
   "id": "fe695913-a341-4e40-84ce-7222a8a14662",
   "metadata": {},
   "outputs": [],
   "source": [
    "### Add validation check for amont less then one to all functions"
   ]
  },
  {
   "cell_type": "code",
   "execution_count": 63,
   "id": "0c7d219a-fb43-42eb-9540-aa16b5be4974",
   "metadata": {},
   "outputs": [],
   "source": [
    "def validate_amount(func):\n",
    "    def wrapper(amount, *args, **kwargs):\n",
    "        if amount < 1:\n",
    "            raise ValueError(\"Amount can never be less than one\")\n",
    "        return func(amount, *args, **kwargs)\n",
    "    return wrapper"
   ]
  },
  {
   "cell_type": "code",
   "execution_count": 57,
   "id": "dac36d2a-dddc-4998-9a05-27cb78b0d73e",
   "metadata": {},
   "outputs": [],
   "source": [
    "@validate_amount\n",
    "def credit(amt):\n",
    "    return amt + 100"
   ]
  },
  {
   "cell_type": "code",
   "execution_count": 58,
   "id": "b6dcf8b4-146d-485d-9f4f-82320f611c0b",
   "metadata": {},
   "outputs": [
    {
     "ename": "ValueError",
     "evalue": "Amount can never be less than one",
     "output_type": "error",
     "traceback": [
      "\u001b[31m---------------------------------------------------------------------------\u001b[39m",
      "\u001b[31mValueError\u001b[39m                                Traceback (most recent call last)",
      "\u001b[36mCell\u001b[39m\u001b[36m \u001b[39m\u001b[32mIn[58]\u001b[39m\u001b[32m, line 1\u001b[39m\n\u001b[32m----> \u001b[39m\u001b[32m1\u001b[39m \u001b[43mcredit\u001b[49m\u001b[43m(\u001b[49m\u001b[43m-\u001b[49m\u001b[32;43m20\u001b[39;49m\u001b[43m)\u001b[49m\n",
      "\u001b[36mCell\u001b[39m\u001b[36m \u001b[39m\u001b[32mIn[56]\u001b[39m\u001b[32m, line 4\u001b[39m, in \u001b[36mvalidate_amount.<locals>.wrapper\u001b[39m\u001b[34m(amount, *args, **kwargs)\u001b[39m\n\u001b[32m      2\u001b[39m \u001b[38;5;28;01mdef\u001b[39;00m\u001b[38;5;250m \u001b[39m\u001b[34mwrapper\u001b[39m(amount, *args, **kwargs):\n\u001b[32m      3\u001b[39m     \u001b[38;5;28;01mif\u001b[39;00m amount < \u001b[32m1\u001b[39m:\n\u001b[32m----> \u001b[39m\u001b[32m4\u001b[39m         \u001b[38;5;28;01mraise\u001b[39;00m \u001b[38;5;167;01mValueError\u001b[39;00m(\u001b[33m\"\u001b[39m\u001b[33mAmount can never be less than one\u001b[39m\u001b[33m\"\u001b[39m)\n\u001b[32m      5\u001b[39m     \u001b[38;5;28;01mreturn\u001b[39;00m func(amount)\n",
      "\u001b[31mValueError\u001b[39m: Amount can never be less than one"
     ]
    }
   ],
   "source": [
    "credit(-20)"
   ]
  },
  {
   "cell_type": "code",
   "execution_count": 64,
   "id": "31da564b-33a1-4402-8c38-1821b7fa74d0",
   "metadata": {},
   "outputs": [],
   "source": [
    "@validate_amount\n",
    "def debit(amt, source):\n",
    "    return source - amt"
   ]
  },
  {
   "cell_type": "code",
   "execution_count": 66,
   "id": "f825966f-7a0b-4cfb-9541-72146237ab1d",
   "metadata": {},
   "outputs": [
    {
     "ename": "ValueError",
     "evalue": "Amount can never be less than one",
     "output_type": "error",
     "traceback": [
      "\u001b[31m---------------------------------------------------------------------------\u001b[39m",
      "\u001b[31mValueError\u001b[39m                                Traceback (most recent call last)",
      "\u001b[36mCell\u001b[39m\u001b[36m \u001b[39m\u001b[32mIn[66]\u001b[39m\u001b[32m, line 1\u001b[39m\n\u001b[32m----> \u001b[39m\u001b[32m1\u001b[39m \u001b[43mdebit\u001b[49m\u001b[43m(\u001b[49m\u001b[43m-\u001b[49m\u001b[32;43m40\u001b[39;49m\u001b[43m,\u001b[49m\u001b[43m \u001b[49m\u001b[32;43m50000\u001b[39;49m\u001b[43m)\u001b[49m\n",
      "\u001b[36mCell\u001b[39m\u001b[36m \u001b[39m\u001b[32mIn[63]\u001b[39m\u001b[32m, line 4\u001b[39m, in \u001b[36mvalidate_amount.<locals>.wrapper\u001b[39m\u001b[34m(amount, *args, **kwargs)\u001b[39m\n\u001b[32m      2\u001b[39m \u001b[38;5;28;01mdef\u001b[39;00m\u001b[38;5;250m \u001b[39m\u001b[34mwrapper\u001b[39m(amount, *args, **kwargs):\n\u001b[32m      3\u001b[39m     \u001b[38;5;28;01mif\u001b[39;00m amount < \u001b[32m1\u001b[39m:\n\u001b[32m----> \u001b[39m\u001b[32m4\u001b[39m         \u001b[38;5;28;01mraise\u001b[39;00m \u001b[38;5;167;01mValueError\u001b[39;00m(\u001b[33m\"\u001b[39m\u001b[33mAmount can never be less than one\u001b[39m\u001b[33m\"\u001b[39m)\n\u001b[32m      5\u001b[39m     \u001b[38;5;28;01mreturn\u001b[39;00m func(amount, *args, **kwargs)\n",
      "\u001b[31mValueError\u001b[39m: Amount can never be less than one"
     ]
    }
   ],
   "source": [
    "debit(-40, 50000)"
   ]
  },
  {
   "cell_type": "code",
   "execution_count": null,
   "id": "77b79368-0850-4194-9bac-574794d8b759",
   "metadata": {},
   "outputs": [],
   "source": []
  },
  {
   "cell_type": "markdown",
   "id": "3fd07d98-bab0-4ffa-8007-e13724e92b04",
   "metadata": {},
   "source": [
    "#### Functional Programming"
   ]
  },
  {
   "cell_type": "raw",
   "id": "3e94334a-e5b3-4d33-b3bc-dde1c5b122f7",
   "metadata": {},
   "source": [
    "lambda arguments: exep"
   ]
  },
  {
   "cell_type": "code",
   "execution_count": 67,
   "id": "f6b8b97b-8931-4c4f-9e58-c97add426d8b",
   "metadata": {},
   "outputs": [],
   "source": [
    "add  = lambda x, y: x+y"
   ]
  },
  {
   "cell_type": "code",
   "execution_count": 68,
   "id": "92a974ae-3709-40c3-afdb-258daf533a8d",
   "metadata": {},
   "outputs": [],
   "source": [
    "def add_fun(x, y):\n",
    "    return x+y"
   ]
  },
  {
   "cell_type": "code",
   "execution_count": 69,
   "id": "401a3f60-1b7b-455f-a65e-99e00bb6acb3",
   "metadata": {},
   "outputs": [
    {
     "name": "stdout",
     "output_type": "stream",
     "text": [
      "10\n"
     ]
    }
   ],
   "source": [
    "print(add(4, 6))"
   ]
  },
  {
   "cell_type": "code",
   "execution_count": 70,
   "id": "ab763906-1bd2-4f40-b754-b96ba5916668",
   "metadata": {},
   "outputs": [],
   "source": [
    "emp_list = [\n",
    "    {'name': 'MS', 'age': 23},\n",
    "    {'name': 'DS', 'age': 12},\n",
    "    {'name': 'AS', 'age': 45},\n",
    "    {'name': 'KK', 'age': 16},\n",
    "    {'name': 'VK', 'age': 28}\n",
    "]"
   ]
  },
  {
   "cell_type": "code",
   "execution_count": 71,
   "id": "e3dbcd9f-0a71-45fe-b8ec-3c6c04167a04",
   "metadata": {},
   "outputs": [
    {
     "data": {
      "text/plain": [
       "[23, 12, 45, 16, 28]"
      ]
     },
     "execution_count": 71,
     "metadata": {},
     "output_type": "execute_result"
    }
   ],
   "source": [
    "[var['age'] for var in emp_list]"
   ]
  },
  {
   "cell_type": "code",
   "execution_count": 75,
   "id": "399f1a49-81f3-4964-a091-7d6a6bc4284d",
   "metadata": {},
   "outputs": [
    {
     "data": {
      "text/plain": [
       "[{'name': 'DS', 'age': 12},\n",
       " {'name': 'KK', 'age': 16},\n",
       " {'name': 'MS', 'age': 23},\n",
       " {'name': 'VK', 'age': 28},\n",
       " {'name': 'AS', 'age': 45}]"
      ]
     },
     "execution_count": 75,
     "metadata": {},
     "output_type": "execute_result"
    }
   ],
   "source": [
    "sorted(emp_list, key=lambda x: x['age'])"
   ]
  },
  {
   "cell_type": "code",
   "execution_count": 77,
   "id": "84bff403-5213-48c2-8591-f717d4791fac",
   "metadata": {},
   "outputs": [
    {
     "data": {
      "text/plain": [
       "[{'name': 'MS', 'age': 23},\n",
       " {'name': 'AS', 'age': 45},\n",
       " {'name': 'VK', 'age': 28}]"
      ]
     },
     "execution_count": 77,
     "metadata": {},
     "output_type": "execute_result"
    }
   ],
   "source": [
    "list(filter(lambda x: x['age']>21, emp_list))"
   ]
  },
  {
   "cell_type": "markdown",
   "id": "3033bf18-01ea-4db0-96aa-1c4d80439820",
   "metadata": {},
   "source": [
    "#### High order functions"
   ]
  },
  {
   "cell_type": "markdown",
   "id": "5bc2c32b-e6cd-4e7b-bee6-5628a3b2b430",
   "metadata": {},
   "source": [
    "Functions which take other functions as arguments"
   ]
  },
  {
   "cell_type": "raw",
   "id": "51399fca-1f5b-4a13-b4a9-09feaa6201ef",
   "metadata": {},
   "source": [
    "map\n",
    "reduce\n",
    "filter"
   ]
  },
  {
   "cell_type": "code",
   "execution_count": 78,
   "id": "a084dc45-0e29-45d0-9883-1b25abaf8e09",
   "metadata": {},
   "outputs": [
    {
     "data": {
      "text/plain": [
       "[1, 4, 9, 16]"
      ]
     },
     "execution_count": 78,
     "metadata": {},
     "output_type": "execute_result"
    }
   ],
   "source": [
    "# map: square each number\n",
    "squares = list(map(lambda x: x**2, [1, 2, 3, 4]))\n",
    "squares"
   ]
  },
  {
   "cell_type": "code",
   "execution_count": 79,
   "id": "c63fb2b5-b0d3-4aa9-9764-469ba1925afc",
   "metadata": {},
   "outputs": [
    {
     "data": {
      "text/plain": [
       "[2, 4]"
      ]
     },
     "execution_count": 79,
     "metadata": {},
     "output_type": "execute_result"
    }
   ],
   "source": [
    "# filter: keep even numbers\n",
    "evens = list(filter(lambda x: x % 2 == 0, [1, 2, 3, 4]))\n",
    "evens"
   ]
  },
  {
   "cell_type": "code",
   "execution_count": 80,
   "id": "7dd27a2a-38e7-444f-a2bf-aa5dbb8081b6",
   "metadata": {},
   "outputs": [
    {
     "data": {
      "text/plain": [
       "10"
      ]
     },
     "execution_count": 80,
     "metadata": {},
     "output_type": "execute_result"
    }
   ],
   "source": [
    "# reduce: sum all numbers\n",
    "from functools import reduce\n",
    "total = reduce(lambda x, y: x + y, [1, 2, 3, 4])\n",
    "total"
   ]
  }
 ],
 "metadata": {
  "kernelspec": {
   "display_name": "Python 3 (ipykernel)",
   "language": "python",
   "name": "python3"
  },
  "language_info": {
   "codemirror_mode": {
    "name": "ipython",
    "version": 3
   },
   "file_extension": ".py",
   "mimetype": "text/x-python",
   "name": "python",
   "nbconvert_exporter": "python",
   "pygments_lexer": "ipython3",
   "version": "3.13.9"
  }
 },
 "nbformat": 4,
 "nbformat_minor": 5
}
