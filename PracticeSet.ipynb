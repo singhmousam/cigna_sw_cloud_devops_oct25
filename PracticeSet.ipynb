{
 "cells": [
  {
   "cell_type": "markdown",
   "id": "9f8fcf68-ae91-46d5-81e8-8c6593781a01",
   "metadata": {},
   "source": [
    "### Practice Questions: Map, Filter, Reduce"
   ]
  },
  {
   "cell_type": "raw",
   "id": "0047169d-11b9-4210-8a05-c52eccd9017d",
   "metadata": {},
   "source": [
    " Map\n",
    "- Given a list of temperatures in Celsius, use map to convert them to Fahrenheit.\n",
    "- Use map to capitalize the first letter of each word in a list of strings.\n",
    "- Transform a list of numbers into their string representations using map.\n",
    " Filter\n",
    "- Use filter to extract all prime numbers from a list of integers.\n",
    "- Given a list of user objects, filter out those who are under 18.\n",
    "- Filter out all strings that contain the letter \"z\" from a list of words.\n",
    " Reduce- Use reduce to calculate the product of all numbers in a list.\n",
    "- Given a list of transactions (positive and negative numbers), use reduce to compute the net balance.\n",
    "- Use reduce to find the longest word in a list of strings.\n",
    " Nested Challenge- Combine map, filter, and reduce to:\n",
    "- Filter out negative numbers from a list,\n",
    "- Square the remaining numbers,\n",
    "- Sum the squares."
   ]
  },
  {
   "cell_type": "code",
   "execution_count": null,
   "id": "f1c7cc54-afd2-46b1-85e7-b9e6354f090a",
   "metadata": {},
   "outputs": [],
   "source": []
  },
  {
   "cell_type": "code",
   "execution_count": null,
   "id": "cb764a3b-dd1a-46f2-a754-f1422ba749e3",
   "metadata": {},
   "outputs": [],
   "source": []
  }
 ],
 "metadata": {
  "kernelspec": {
   "display_name": "Python 3 (ipykernel)",
   "language": "python",
   "name": "python3"
  },
  "language_info": {
   "codemirror_mode": {
    "name": "ipython",
    "version": 3
   },
   "file_extension": ".py",
   "mimetype": "text/x-python",
   "name": "python",
   "nbconvert_exporter": "python",
   "pygments_lexer": "ipython3",
   "version": "3.13.9"
  }
 },
 "nbformat": 4,
 "nbformat_minor": 5
}
