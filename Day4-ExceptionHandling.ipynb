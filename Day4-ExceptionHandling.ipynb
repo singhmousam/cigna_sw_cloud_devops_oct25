{
 "cells": [
  {
   "cell_type": "markdown",
   "id": "f7cc9506-ba03-413b-b590-8cb19471c787",
   "metadata": {},
   "source": [
    "ag = A"
   ]
  },
  {
   "cell_type": "code",
   "execution_count": 1,
   "id": "1dbfd3ce-ed6b-47e6-8ada-8a498e5baee8",
   "metadata": {},
   "outputs": [
    {
     "ename": "TypeError",
     "evalue": "unsupported operand type(s) for +: 'int' and 'str'",
     "output_type": "error",
     "traceback": [
      "\u001b[31m---------------------------------------------------------------------------\u001b[39m",
      "\u001b[31mTypeError\u001b[39m                                 Traceback (most recent call last)",
      "\u001b[36mCell\u001b[39m\u001b[36m \u001b[39m\u001b[32mIn[1]\u001b[39m\u001b[32m, line 1\u001b[39m\n\u001b[32m----> \u001b[39m\u001b[32m1\u001b[39m \u001b[32;43m1\u001b[39;49m\u001b[43m \u001b[49m\u001b[43m+\u001b[49m\u001b[43m \u001b[49m\u001b[33;43m'\u001b[39;49m\u001b[33;43mtyhbj\u001b[39;49m\u001b[33;43m'\u001b[39;49m\n",
      "\u001b[31mTypeError\u001b[39m: unsupported operand type(s) for +: 'int' and 'str'"
     ]
    }
   ],
   "source": [
    "1 + 'tyhbj'"
   ]
  },
  {
   "cell_type": "code",
   "execution_count": 2,
   "id": "7782d4cc-fb6d-4ef9-99f7-5a2527afaa8d",
   "metadata": {},
   "outputs": [
    {
     "ename": "NameError",
     "evalue": "name 'a' is not defined",
     "output_type": "error",
     "traceback": [
      "\u001b[31m---------------------------------------------------------------------------\u001b[39m",
      "\u001b[31mNameError\u001b[39m                                 Traceback (most recent call last)",
      "\u001b[36mCell\u001b[39m\u001b[36m \u001b[39m\u001b[32mIn[2]\u001b[39m\u001b[32m, line 1\u001b[39m\n\u001b[32m----> \u001b[39m\u001b[32m1\u001b[39m \u001b[43ma\u001b[49m + \u001b[32m1\u001b[39m\n",
      "\u001b[31mNameError\u001b[39m: name 'a' is not defined"
     ]
    }
   ],
   "source": [
    "a + 1"
   ]
  },
  {
   "cell_type": "code",
   "execution_count": 34,
   "id": "2c2b0520-7591-4f8a-ae37-742ee553d84a",
   "metadata": {},
   "outputs": [],
   "source": [
    "class AgeError(Exception):\n",
    "    \"\"\"You are not eligible to vote\"\"\"\n",
    "    def __init__(self):\n",
    "        self.country = 'India'\n",
    "\n",
    "    def format_mssg(self, mssg):\n",
    "        return \"As resident of \" + self.country + \" age limit for voting is 18-60\""
   ]
  },
  {
   "cell_type": "code",
   "execution_count": 21,
   "id": "5258c4ab-559e-4618-90bf-eb64c9bedc21",
   "metadata": {},
   "outputs": [],
   "source": [
    "class NotFromUT(Exception):\n",
    "    pass\n",
    "        \n",
    "    def check_state(self, st):\n",
    "        if st not in ['LD', 'AP', 'AM']:\n",
    "            raise NotFromUT()\n"
   ]
  },
  {
   "cell_type": "code",
   "execution_count": 14,
   "id": "219002c7-12cb-4d10-ab05-40ddb63cff26",
   "metadata": {},
   "outputs": [],
   "source": [
    "def checkAge(age):\n",
    "    if age< 18:\n",
    "        raise AgeError() from "
   ]
  },
  {
   "cell_type": "code",
   "execution_count": 15,
   "id": "3d6cee1a-2867-4ae6-8719-3810e78e081d",
   "metadata": {},
   "outputs": [
    {
     "ename": "AgeError",
     "evalue": "",
     "output_type": "error",
     "traceback": [
      "\u001b[31m---------------------------------------------------------------------------\u001b[39m",
      "\u001b[31mAgeError\u001b[39m                                  Traceback (most recent call last)",
      "\u001b[36mCell\u001b[39m\u001b[36m \u001b[39m\u001b[32mIn[15]\u001b[39m\u001b[32m, line 1\u001b[39m\n\u001b[32m----> \u001b[39m\u001b[32m1\u001b[39m \u001b[43mcheckAge\u001b[49m\u001b[43m(\u001b[49m\u001b[32;43m2\u001b[39;49m\u001b[43m)\u001b[49m\n",
      "\u001b[36mCell\u001b[39m\u001b[36m \u001b[39m\u001b[32mIn[14]\u001b[39m\u001b[32m, line 3\u001b[39m, in \u001b[36mcheckAge\u001b[39m\u001b[34m(age)\u001b[39m\n\u001b[32m      1\u001b[39m \u001b[38;5;28;01mdef\u001b[39;00m\u001b[38;5;250m \u001b[39m\u001b[34mcheckAge\u001b[39m(age):\n\u001b[32m      2\u001b[39m     \u001b[38;5;28;01mif\u001b[39;00m age< \u001b[32m18\u001b[39m:\n\u001b[32m----> \u001b[39m\u001b[32m3\u001b[39m         \u001b[38;5;28;01mraise\u001b[39;00m AgeError()\n",
      "\u001b[31mAgeError\u001b[39m: "
     ]
    }
   ],
   "source": [
    "checkAge(2)"
   ]
  },
  {
   "cell_type": "code",
   "execution_count": 16,
   "id": "0a1fae16-87b8-4c05-8631-d8dc0ccb5cd3",
   "metadata": {},
   "outputs": [],
   "source": [
    "ag = AgeError()"
   ]
  },
  {
   "cell_type": "code",
   "execution_count": 18,
   "id": "a9ee2550-c8a7-4702-9998-dd1c4122e934",
   "metadata": {},
   "outputs": [
    {
     "ename": "NameError",
     "evalue": "name 'NotFromUT' is not defined",
     "output_type": "error",
     "traceback": [
      "\u001b[31m---------------------------------------------------------------------------\u001b[39m",
      "\u001b[31mNameError\u001b[39m                                 Traceback (most recent call last)",
      "\u001b[36mCell\u001b[39m\u001b[36m \u001b[39m\u001b[32mIn[18]\u001b[39m\u001b[32m, line 1\u001b[39m\n\u001b[32m----> \u001b[39m\u001b[32m1\u001b[39m \u001b[43mag\u001b[49m\u001b[43m.\u001b[49m\u001b[43mcheck_state\u001b[49m\u001b[43m(\u001b[49m\u001b[33;43m'\u001b[39;49m\u001b[33;43mGJ\u001b[39;49m\u001b[33;43m'\u001b[39;49m\u001b[43m)\u001b[49m\n",
      "\u001b[36mCell\u001b[39m\u001b[36m \u001b[39m\u001b[32mIn[13]\u001b[39m\u001b[32m, line 12\u001b[39m, in \u001b[36mAgeError.check_state\u001b[39m\u001b[34m(self, st)\u001b[39m\n\u001b[32m     10\u001b[39m \u001b[38;5;28;01mdef\u001b[39;00m\u001b[38;5;250m \u001b[39m\u001b[34mcheck_state\u001b[39m(\u001b[38;5;28mself\u001b[39m, st):\n\u001b[32m     11\u001b[39m     \u001b[38;5;28;01mif\u001b[39;00m st \u001b[38;5;129;01mnot\u001b[39;00m \u001b[38;5;129;01min\u001b[39;00m [\u001b[33m'\u001b[39m\u001b[33mLD\u001b[39m\u001b[33m'\u001b[39m, \u001b[33m'\u001b[39m\u001b[33mAP\u001b[39m\u001b[33m'\u001b[39m, \u001b[33m'\u001b[39m\u001b[33mAM\u001b[39m\u001b[33m'\u001b[39m]:\n\u001b[32m---> \u001b[39m\u001b[32m12\u001b[39m         \u001b[38;5;28;01mraise\u001b[39;00m \u001b[43mNotFromUT\u001b[49m()\n",
      "\u001b[31mNameError\u001b[39m: name 'NotFromUT' is not defined"
     ]
    }
   ],
   "source": [
    "ag.check_state('GJ')"
   ]
  },
  {
   "cell_type": "markdown",
   "id": "47c7c598-075d-4b82-92ca-13c84df186c7",
   "metadata": {},
   "source": [
    "#### Usage "
   ]
  },
  {
   "cell_type": "code",
   "execution_count": 29,
   "id": "0d51407f-7bd6-410a-8a0b-3b1dd8e572c2",
   "metadata": {},
   "outputs": [],
   "source": [
    "def fetch_vid(aid):\n",
    "    if aid > 18:\n",
    "        'a' + 98\n",
    "        return 0\n",
    "    else:\n",
    "        raise AgeError()"
   ]
  },
  {
   "cell_type": "code",
   "execution_count": 39,
   "id": "6be37f20-4de1-4e8d-b6ec-584f10a5a403",
   "metadata": {},
   "outputs": [
    {
     "name": "stdout",
     "output_type": "stream",
     "text": [
      "Check you code\n",
      "can only concatenate str (not \"int\") to str\n"
     ]
    }
   ],
   "source": [
    "aid =45\n",
    "try:\n",
    "    fetch_vid(aid)\n",
    "except AgeError as e:\n",
    "    print('User is below voting right age limit')\n",
    "    print(e.format_mssg(''))\n",
    "    print(str(e))\n",
    "except TypeError as e:\n",
    "    print('Check you code')\n",
    "    print(str(e.))"
   ]
  },
  {
   "cell_type": "code",
   "execution_count": 40,
   "id": "0f48e7f4-111d-478b-b959-91a4a2ebc1f3",
   "metadata": {},
   "outputs": [
    {
     "ename": "SyntaxError",
     "evalue": "invalid syntax (53933813.py, line 1)",
     "output_type": "error",
     "traceback": [
      "  \u001b[36mCell\u001b[39m\u001b[36m \u001b[39m\u001b[32mIn[40]\u001b[39m\u001b[32m, line 1\u001b[39m\n\u001b[31m    \u001b[39m\u001b[31mOrder_ID|| Vendor_ID || Cost\u001b[39m\n             ^\n\u001b[31mSyntaxError\u001b[39m\u001b[31m:\u001b[39m invalid syntax\n"
     ]
    }
   ],
   "source": [
    "Order_ID|| Vendor_ID || Cost || TS\n",
    "101 | AK | 2000 \n",
    "102 | AK | 2000\n",
    "103 | AK | 2000\n",
    "104 | AK | 2000"
   ]
  },
  {
   "cell_type": "code",
   "execution_count": 41,
   "id": "70e6ca99-b1e0-40cb-a104-4ba6a8032efb",
   "metadata": {},
   "outputs": [
    {
     "ename": "NameError",
     "evalue": "name 'AK' is not defined",
     "output_type": "error",
     "traceback": [
      "\u001b[31m---------------------------------------------------------------------------\u001b[39m",
      "\u001b[31mNameError\u001b[39m                                 Traceback (most recent call last)",
      "\u001b[36mCell\u001b[39m\u001b[36m \u001b[39m\u001b[32mIn[41]\u001b[39m\u001b[32m, line 1\u001b[39m\n\u001b[32m----> \u001b[39m\u001b[32m1\u001b[39m {\u001b[33m'\u001b[39m\u001b[33m101\u001b[39m\u001b[33m'\u001b[39m: {\u001b[33m'\u001b[39m\u001b[33mvendor_id\u001b[39m\u001b[33m'\u001b[39m: \u001b[43mAK\u001b[49m, \u001b[33m'\u001b[39m\u001b[33mcost\u001b[39m\u001b[33m'\u001b[39m:\u001b[32m2000\u001b[39m}}\n",
      "\u001b[31mNameError\u001b[39m: name 'AK' is not defined"
     ]
    }
   ],
   "source": [
    "{'101': {'vendor_id': AK, 'cost':2000, }}"
   ]
  },
  {
   "cell_type": "code",
   "execution_count": 42,
   "id": "6ee502e2-cc03-4dbd-8170-971aa266ee25",
   "metadata": {},
   "outputs": [
    {
     "data": {
      "text/plain": [
       "{'AK': [101, 104, 1890]}"
      ]
     },
     "execution_count": 42,
     "metadata": {},
     "output_type": "execute_result"
    }
   ],
   "source": [
    "{\n",
    "    'AK': [101, 104, 1890]\n",
    "}\n"
   ]
  },
  {
   "cell_type": "code",
   "execution_count": 47,
   "id": "4b455f7b-93bd-4e39-b34c-2d702ff99eea",
   "metadata": {},
   "outputs": [],
   "source": [
    "e = Exception()"
   ]
  },
  {
   "cell_type": "code",
   "execution_count": 48,
   "id": "cfd3d7db-9525-4f8b-bb70-b6992efcd536",
   "metadata": {},
   "outputs": [
    {
     "data": {
      "text/plain": [
       "()"
      ]
     },
     "execution_count": 48,
     "metadata": {},
     "output_type": "execute_result"
    }
   ],
   "source": [
    "###\n",
    "Create a "
   ]
  },
  {
   "cell_type": "code",
   "execution_count": null,
   "id": "f49070a6-809c-477c-abfd-4dcb5619612f",
   "metadata": {},
   "outputs": [],
   "source": []
  }
 ],
 "metadata": {
  "kernelspec": {
   "display_name": "Python 3 (ipykernel)",
   "language": "python",
   "name": "python3"
  },
  "language_info": {
   "codemirror_mode": {
    "name": "ipython",
    "version": 3
   },
   "file_extension": ".py",
   "mimetype": "text/x-python",
   "name": "python",
   "nbconvert_exporter": "python",
   "pygments_lexer": "ipython3",
   "version": "3.13.9"
  }
 },
 "nbformat": 4,
 "nbformat_minor": 5
}
