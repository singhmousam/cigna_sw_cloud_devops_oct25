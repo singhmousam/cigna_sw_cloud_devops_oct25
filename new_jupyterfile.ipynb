{
 "cells": [
  {
   "cell_type": "markdown",
   "id": "a6f3d6d3-8e10-423d-be5c-0fe240c1f120",
   "metadata": {},
   "source": [
    "### Week 2: Python Excercise"
   ]
  },
  {
   "cell_type": "raw",
   "id": "4190dcb2-c97d-435f-868f-ebc26c0bd630",
   "metadata": {},
   "source": [
    "Create a Exception Handling class for a Finance Domain application.\n",
    "Write helper/formatter functions to change the default messaging to raise transactional error as ComplianceExecption.\n",
    "Include transaction_id, timestamp and compliance_type as parameetrs to your custom error message.\n",
    "- Format_messsage (Violation type {xyz} detected at {ts} for txn id {tid}\n",
    "- Log Violation\n"
   ]
  },
  {
   "cell_type": "code",
   "execution_count": 4,
   "id": "ad70940b-eff2-4384-93b7-8e570d9f731d",
   "metadata": {},
   "outputs": [],
   "source": [
    "from datetime import datetime"
   ]
  },
  {
   "cell_type": "code",
   "execution_count": 19,
   "id": "d65e1719-ccac-405f-ae86-a19ca8f138d4",
   "metadata": {},
   "outputs": [
    {
     "data": {
      "text/plain": [
       "datetime.datetime(2025, 10, 28, 10, 17, 33, 11464)"
      ]
     },
     "execution_count": 19,
     "metadata": {},
     "output_type": "execute_result"
    }
   ],
   "source": [
    "datetime.now() #.strftime(\"%Y-%B-%d %H:%M:%S\")"
   ]
  },
  {
   "cell_type": "code",
   "execution_count": 29,
   "id": "7826fbb3-74bb-4959-bf5b-3c7ef6c692b5",
   "metadata": {},
   "outputs": [],
   "source": [
    "class ComplianceException(Exception):\n",
    "    def __init__(self, bank_id = 'HDFC'):\n",
    "        self.bank_id = bank_id\n",
    "\n",
    "    def format_message(self, txn_id):\n",
    "        return f\"Violation for {txn_id} with bank {self.bank_id} at {datetime.now().strftime(\"%Y-%B-%d %H:%M:%S\")}\""
   ]
  },
  {
   "cell_type": "code",
   "execution_count": 33,
   "id": "8e21407c-8150-45f3-a1cf-5952c0a744e3",
   "metadata": {},
   "outputs": [
    {
     "name": "stdout",
     "output_type": "stream",
     "text": [
      "Unidetified error\n"
     ]
    },
    {
     "ename": "TypeError",
     "evalue": "can only concatenate str (not \"int\") to str",
     "output_type": "error",
     "traceback": [
      "\u001b[31m---------------------------------------------------------------------------\u001b[39m",
      "\u001b[31mTypeError\u001b[39m                                 Traceback (most recent call last)",
      "\u001b[36mCell\u001b[39m\u001b[36m \u001b[39m\u001b[32mIn[33]\u001b[39m\u001b[32m, line 10\u001b[39m\n\u001b[32m      8\u001b[39m \u001b[38;5;28;01mexcept\u001b[39;00m \u001b[38;5;167;01mException\u001b[39;00m \u001b[38;5;28;01mas\u001b[39;00m e:\n\u001b[32m      9\u001b[39m     \u001b[38;5;28mprint\u001b[39m(\u001b[33m'\u001b[39m\u001b[33mUnidetified error\u001b[39m\u001b[33m'\u001b[39m)\n\u001b[32m---> \u001b[39m\u001b[32m10\u001b[39m     \u001b[38;5;28;01mraise\u001b[39;00m e\n",
      "\u001b[36mCell\u001b[39m\u001b[36m \u001b[39m\u001b[32mIn[33]\u001b[39m\u001b[32m, line 2\u001b[39m\n\u001b[32m      1\u001b[39m \u001b[38;5;28;01mtry\u001b[39;00m:\n\u001b[32m----> \u001b[39m\u001b[32m2\u001b[39m     \u001b[33;43m'\u001b[39;49m\u001b[33;43ma\u001b[39;49m\u001b[33;43m'\u001b[39;49m\u001b[43m \u001b[49m\u001b[43m+\u001b[49m\u001b[43m \u001b[49m\u001b[32;43m5\u001b[39;49m\n\u001b[32m      3\u001b[39m     \u001b[38;5;28;01mraise\u001b[39;00m ComplianceException(\u001b[33m'\u001b[39m\u001b[33mIDFC\u001b[39m\u001b[33m'\u001b[39m)\n\u001b[32m      4\u001b[39m \u001b[38;5;28;01mexcept\u001b[39;00m ComplianceException \u001b[38;5;28;01mas\u001b[39;00m e:\n",
      "\u001b[31mTypeError\u001b[39m: can only concatenate str (not \"int\") to str"
     ]
    }
   ],
   "source": [
    "try:\n",
    "    'a' + 5\n",
    "    raise ComplianceException('IDFC')\n",
    "except ComplianceException as e:\n",
    "    print(e.format_message('abc13'))\n",
    "except NameError as e:\n",
    "    print('Check code syntax :' + str(e))\n",
    "except Exception as e:\n",
    "    print('Unidetified error')\n",
    "    raise e"
   ]
  },
  {
   "cell_type": "code",
   "execution_count": null,
   "id": "77c0f778-257b-4482-a1b8-1d7724dc7e09",
   "metadata": {},
   "outputs": [],
   "source": []
  }
 ],
 "metadata": {
  "kernelspec": {
   "display_name": "Python 3 (ipykernel)",
   "language": "python",
   "name": "python3"
  },
  "language_info": {
   "codemirror_mode": {
    "name": "ipython",
    "version": 3
   },
   "file_extension": ".py",
   "mimetype": "text/x-python",
   "name": "python",
   "nbconvert_exporter": "python",
   "pygments_lexer": "ipython3",
   "version": "3.13.9"
  }
 },
 "nbformat": 4,
 "nbformat_minor": 5
}
